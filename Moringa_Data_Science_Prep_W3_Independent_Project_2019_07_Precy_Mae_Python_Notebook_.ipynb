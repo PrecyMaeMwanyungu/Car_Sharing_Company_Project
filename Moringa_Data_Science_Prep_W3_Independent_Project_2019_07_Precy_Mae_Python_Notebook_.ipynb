{
  "nbformat": 4,
  "nbformat_minor": 0,
  "metadata": {
    "colab": {
      "name": "Moringa_Data_Science_Prep_W3_Independent_Project_2019_07_Precy_Mae_Python_Notebook.",
      "provenance": [],
      "collapsed_sections": [
        "kLXJCrKsvJ2V",
        "RvjWHKfIw6kG"
      ],
      "authorship_tag": "ABX9TyOv0vsJcwIDlSripSIZlbXA",
      "include_colab_link": true
    },
    "kernelspec": {
      "name": "python3",
      "display_name": "Python 3"
    }
  },
  "cells": [
    {
      "cell_type": "markdown",
      "metadata": {
        "id": "view-in-github",
        "colab_type": "text"
      },
      "source": [
        "<a href=\"https://colab.research.google.com/github/PrecyMaeMwanyungu/Car_Sharing_Company_Project/blob/master/Moringa_Data_Science_Prep_W3_Independent_Project_2019_07_Precy_Mae_Python_Notebook_.ipynb\" target=\"_parent\"><img src=\"https://colab.research.google.com/assets/colab-badge.svg\" alt=\"Open In Colab\"/></a>"
      ]
    },
    {
      "cell_type": "markdown",
      "metadata": {
        "id": "OWZTEv5DrjXH",
        "colab_type": "text"
      },
      "source": [
        "# Week 4 Moringa Prep independent Project"
      ]
    },
    {
      "cell_type": "markdown",
      "metadata": {
        "id": "Ao-jN3XDr5Du",
        "colab_type": "text"
      },
      "source": [
        "**Project**\n",
        "\n",
        "In this week's independent project, you will be working as a data scientist working for an electric car-sharing service company. You have been tasked to process stations data to understand electric car usage over time by solving for the following research question;\n",
        "\n",
        "**Research Question**\n",
        "\n",
        "Identify the most popular hour of the day for picking up a shared electric car (Bluecar) in the city of Paris over the month of April 2018.\n",
        "\n",
        "**Bonus Questions**\n",
        "\n",
        "1.   What is the most popular hour for returning cars?\n",
        "2.   What station is the most popular?\n",
        "Overall?\n",
        "3.   The most popular picking hour?\n",
        "4.   What postal code is the most popular for picking up Blue cars? Does the most popular station belong to that postal code?\n",
        "Overall?At the most popular picking hour?\n",
        "5.   Do the results change if you consider Utilib and Utilib 1.4 instead of Blue cars? \n",
        "\n",
        "**Datasets Provided**\n",
        "\n",
        "\n",
        "*   http://bit.ly/autolib_dataset\n",
        "*   https://drive.google.com/a/moringaschool.com/file/d/13DXF2CFWQLeYxxHFekng8HJnH_jtbfpN/view?usp=sharing\n",
        "\n"
      ]
    },
    {
      "cell_type": "markdown",
      "metadata": {
        "id": "fBjLLlhquvaz",
        "colab_type": "text"
      },
      "source": [
        "# Importing our Libraries"
      ]
    },
    {
      "cell_type": "code",
      "metadata": {
        "id": "AIHR7unOu4tq",
        "colab_type": "code",
        "colab": {}
      },
      "source": [
        "import numpy as np\n",
        "#\n",
        "import pandas as pd"
      ],
      "execution_count": 0,
      "outputs": []
    },
    {
      "cell_type": "markdown",
      "metadata": {
        "id": "kLXJCrKsvJ2V",
        "colab_type": "text"
      },
      "source": [
        "# Reading our dataset from csv"
      ]
    },
    {
      "cell_type": "code",
      "metadata": {
        "id": "-sChnjShySFb",
        "colab_type": "code",
        "colab": {}
      },
      "source": [
        "# Lets read our dataset from CSV and create a dataframe\n",
        "#\n",
        "init_station= pd.read_csv(\"http://bit.ly/autolib_dataset\", header=0)"
      ],
      "execution_count": 0,
      "outputs": []
    },
    {
      "cell_type": "markdown",
      "metadata": {
        "id": "HmIqKplwwYqH",
        "colab_type": "text"
      },
      "source": [
        "# Previewing our dataset\n",
        "\n"
      ]
    },
    {
      "cell_type": "code",
      "metadata": {
        "id": "OWR-0g0x3G8_",
        "colab_type": "code",
        "outputId": "a367c8b3-560d-4542-cbf2-58b1869661bb",
        "colab": {
          "base_uri": "https://localhost:8080/",
          "height": 290
        }
      },
      "source": [
        "# Lets preview our dataset\n",
        "#\n",
        "init_station.head(3)"
      ],
      "execution_count": 0,
      "outputs": [
        {
          "output_type": "execute_result",
          "data": {
            "text/html": [
              "<div>\n",
              "<style scoped>\n",
              "    .dataframe tbody tr th:only-of-type {\n",
              "        vertical-align: middle;\n",
              "    }\n",
              "\n",
              "    .dataframe tbody tr th {\n",
              "        vertical-align: top;\n",
              "    }\n",
              "\n",
              "    .dataframe thead th {\n",
              "        text-align: right;\n",
              "    }\n",
              "</style>\n",
              "<table border=\"1\" class=\"dataframe\">\n",
              "  <thead>\n",
              "    <tr style=\"text-align: right;\">\n",
              "      <th></th>\n",
              "      <th>Address</th>\n",
              "      <th>Cars</th>\n",
              "      <th>Bluecar counter</th>\n",
              "      <th>Utilib counter</th>\n",
              "      <th>Utilib 1.4 counter</th>\n",
              "      <th>Charge Slots</th>\n",
              "      <th>Charging Status</th>\n",
              "      <th>City</th>\n",
              "      <th>Displayed comment</th>\n",
              "      <th>ID</th>\n",
              "      <th>Kind</th>\n",
              "      <th>Geo point</th>\n",
              "      <th>Postal code</th>\n",
              "      <th>Public name</th>\n",
              "      <th>Rental status</th>\n",
              "      <th>Scheduled at</th>\n",
              "      <th>Slots</th>\n",
              "      <th>Station type</th>\n",
              "      <th>Status</th>\n",
              "      <th>Subscription status</th>\n",
              "      <th>year</th>\n",
              "      <th>month</th>\n",
              "      <th>day</th>\n",
              "      <th>hour</th>\n",
              "      <th>minute</th>\n",
              "    </tr>\n",
              "  </thead>\n",
              "  <tbody>\n",
              "    <tr>\n",
              "      <th>0</th>\n",
              "      <td>2 Avenue de Suffren</td>\n",
              "      <td>0</td>\n",
              "      <td>0</td>\n",
              "      <td>0</td>\n",
              "      <td>0</td>\n",
              "      <td>0</td>\n",
              "      <td>nonexistent</td>\n",
              "      <td>Paris</td>\n",
              "      <td>NaN</td>\n",
              "      <td>paris-suffren-2</td>\n",
              "      <td>STATION</td>\n",
              "      <td>48.857, 2.2917</td>\n",
              "      <td>75015</td>\n",
              "      <td>Paris/Suffren/2</td>\n",
              "      <td>operational</td>\n",
              "      <td>NaN</td>\n",
              "      <td>2</td>\n",
              "      <td>station</td>\n",
              "      <td>ok</td>\n",
              "      <td>nonexistent</td>\n",
              "      <td>2018</td>\n",
              "      <td>4</td>\n",
              "      <td>8</td>\n",
              "      <td>11</td>\n",
              "      <td>43</td>\n",
              "    </tr>\n",
              "    <tr>\n",
              "      <th>1</th>\n",
              "      <td>145 Rue Raymond Losserand</td>\n",
              "      <td>6</td>\n",
              "      <td>6</td>\n",
              "      <td>0</td>\n",
              "      <td>0</td>\n",
              "      <td>0</td>\n",
              "      <td>operational</td>\n",
              "      <td>Paris</td>\n",
              "      <td>NaN</td>\n",
              "      <td>paris-raymondlosserand-145</td>\n",
              "      <td>STATION</td>\n",
              "      <td>48.83126, 2.313088</td>\n",
              "      <td>75014</td>\n",
              "      <td>Paris/Raymond Losserand/145</td>\n",
              "      <td>operational</td>\n",
              "      <td>NaN</td>\n",
              "      <td>0</td>\n",
              "      <td>station</td>\n",
              "      <td>ok</td>\n",
              "      <td>nonexistent</td>\n",
              "      <td>2018</td>\n",
              "      <td>4</td>\n",
              "      <td>6</td>\n",
              "      <td>7</td>\n",
              "      <td>24</td>\n",
              "    </tr>\n",
              "    <tr>\n",
              "      <th>2</th>\n",
              "      <td>2 Avenue John Fitzgerald Kennedy</td>\n",
              "      <td>3</td>\n",
              "      <td>3</td>\n",
              "      <td>0</td>\n",
              "      <td>2</td>\n",
              "      <td>0</td>\n",
              "      <td>operational</td>\n",
              "      <td>Le Bourget</td>\n",
              "      <td>NaN</td>\n",
              "      <td>lebourget-johnfitzgeraldkennedy-2</td>\n",
              "      <td>STATION</td>\n",
              "      <td>48.938103, 2.4286035</td>\n",
              "      <td>93350</td>\n",
              "      <td>Le Bourget/John Fitzgerald Kennedy/2</td>\n",
              "      <td>operational</td>\n",
              "      <td>NaN</td>\n",
              "      <td>1</td>\n",
              "      <td>station</td>\n",
              "      <td>ok</td>\n",
              "      <td>nonexistent</td>\n",
              "      <td>2018</td>\n",
              "      <td>4</td>\n",
              "      <td>3</td>\n",
              "      <td>20</td>\n",
              "      <td>14</td>\n",
              "    </tr>\n",
              "  </tbody>\n",
              "</table>\n",
              "</div>"
            ],
            "text/plain": [
              "                            Address  Cars  Bluecar counter  ...  day  hour  minute\n",
              "0               2 Avenue de Suffren     0                0  ...    8    11      43\n",
              "1         145 Rue Raymond Losserand     6                6  ...    6     7      24\n",
              "2  2 Avenue John Fitzgerald Kennedy     3                3  ...    3    20      14\n",
              "\n",
              "[3 rows x 25 columns]"
            ]
          },
          "metadata": {
            "tags": []
          },
          "execution_count": 85
        }
      ]
    },
    {
      "cell_type": "markdown",
      "metadata": {
        "id": "RvjWHKfIw6kG",
        "colab_type": "text"
      },
      "source": [
        "# Accesing information about our dataset"
      ]
    },
    {
      "cell_type": "code",
      "metadata": {
        "id": "HEfFqnQo3b8Z",
        "colab_type": "code",
        "outputId": "95f48389-6f18-431d-c160-cdc2aea1a924",
        "colab": {
          "base_uri": "https://localhost:8080/",
          "height": 554
        }
      },
      "source": [
        "# Lets preview information on our dataset\n",
        "init_station.info()"
      ],
      "execution_count": 0,
      "outputs": [
        {
          "output_type": "stream",
          "text": [
            "<class 'pandas.core.frame.DataFrame'>\n",
            "RangeIndex: 5000 entries, 0 to 4999\n",
            "Data columns (total 25 columns):\n",
            " #   Column               Non-Null Count  Dtype \n",
            "---  ------               --------------  ----- \n",
            " 0   Address              5000 non-null   object\n",
            " 1   Cars                 5000 non-null   int64 \n",
            " 2   Bluecar counter      5000 non-null   int64 \n",
            " 3   Utilib counter       5000 non-null   int64 \n",
            " 4   Utilib 1.4 counter   5000 non-null   int64 \n",
            " 5   Charge Slots         5000 non-null   int64 \n",
            " 6   Charging Status      5000 non-null   object\n",
            " 7   City                 5000 non-null   object\n",
            " 8   Displayed comment    111 non-null    object\n",
            " 9   ID                   5000 non-null   object\n",
            " 10  Kind                 5000 non-null   object\n",
            " 11  Geo point            5000 non-null   object\n",
            " 12  Postal code          5000 non-null   int64 \n",
            " 13  Public name          5000 non-null   object\n",
            " 14  Rental status        5000 non-null   object\n",
            " 15  Scheduled at         47 non-null     object\n",
            " 16  Slots                5000 non-null   int64 \n",
            " 17  Station type         5000 non-null   object\n",
            " 18  Status               5000 non-null   object\n",
            " 19  Subscription status  5000 non-null   object\n",
            " 20  year                 5000 non-null   int64 \n",
            " 21  month                5000 non-null   int64 \n",
            " 22  day                  5000 non-null   int64 \n",
            " 23  hour                 5000 non-null   int64 \n",
            " 24  minute               5000 non-null   int64 \n",
            "dtypes: int64(12), object(13)\n",
            "memory usage: 976.7+ KB\n"
          ],
          "name": "stdout"
        }
      ]
    },
    {
      "cell_type": "markdown",
      "metadata": {
        "id": "bgh6MugXxCXI",
        "colab_type": "text"
      },
      "source": [
        "# Cleaning our dataset"
      ]
    },
    {
      "cell_type": "markdown",
      "metadata": {
        "id": "qW3_ljjV4Lqu",
        "colab_type": "text"
      },
      "source": [
        "Let us perform data cleaning procedures below providing a documentation for our actions and reasons. We will perform as many data cleaning procedures as we think suitable for the various dimensions of data."
      ]
    },
    {
      "cell_type": "markdown",
      "metadata": {
        "id": "4mB_dAADxKZe",
        "colab_type": "text"
      },
      "source": [
        "# Validity"
      ]
    },
    {
      "cell_type": "code",
      "metadata": {
        "id": "YXnN79UY5JvZ",
        "colab_type": "code",
        "outputId": "b411efaa-d12c-4154-d51c-c33fcfb0480f",
        "colab": {
          "base_uri": "https://localhost:8080/",
          "height": 257
        }
      },
      "source": [
        "# Procedure 1\n",
        "# Data cleaning action:Messy column names \n",
        "# Explanation:\n",
        "#\n",
        "init_station. columns= init_station. columns. str.strip().str.lower().str.replace(' ','')\n",
        "init_station.head(3)"
      ],
      "execution_count": 0,
      "outputs": [
        {
          "output_type": "execute_result",
          "data": {
            "text/html": [
              "<div>\n",
              "<style scoped>\n",
              "    .dataframe tbody tr th:only-of-type {\n",
              "        vertical-align: middle;\n",
              "    }\n",
              "\n",
              "    .dataframe tbody tr th {\n",
              "        vertical-align: top;\n",
              "    }\n",
              "\n",
              "    .dataframe thead th {\n",
              "        text-align: right;\n",
              "    }\n",
              "</style>\n",
              "<table border=\"1\" class=\"dataframe\">\n",
              "  <thead>\n",
              "    <tr style=\"text-align: right;\">\n",
              "      <th></th>\n",
              "      <th>address</th>\n",
              "      <th>cars</th>\n",
              "      <th>bluecarcounter</th>\n",
              "      <th>utilibcounter</th>\n",
              "      <th>utilib1.4counter</th>\n",
              "      <th>chargeslots</th>\n",
              "      <th>chargingstatus</th>\n",
              "      <th>city</th>\n",
              "      <th>displayedcomment</th>\n",
              "      <th>id</th>\n",
              "      <th>kind</th>\n",
              "      <th>geopoint</th>\n",
              "      <th>postalcode</th>\n",
              "      <th>publicname</th>\n",
              "      <th>rentalstatus</th>\n",
              "      <th>scheduledat</th>\n",
              "      <th>slots</th>\n",
              "      <th>stationtype</th>\n",
              "      <th>status</th>\n",
              "      <th>subscriptionstatus</th>\n",
              "      <th>year</th>\n",
              "      <th>month</th>\n",
              "      <th>day</th>\n",
              "      <th>hour</th>\n",
              "      <th>minute</th>\n",
              "    </tr>\n",
              "  </thead>\n",
              "  <tbody>\n",
              "    <tr>\n",
              "      <th>0</th>\n",
              "      <td>2 Avenue de Suffren</td>\n",
              "      <td>0</td>\n",
              "      <td>0</td>\n",
              "      <td>0</td>\n",
              "      <td>0</td>\n",
              "      <td>0</td>\n",
              "      <td>nonexistent</td>\n",
              "      <td>Paris</td>\n",
              "      <td>NaN</td>\n",
              "      <td>paris-suffren-2</td>\n",
              "      <td>STATION</td>\n",
              "      <td>48.857, 2.2917</td>\n",
              "      <td>75015</td>\n",
              "      <td>Paris/Suffren/2</td>\n",
              "      <td>operational</td>\n",
              "      <td>NaN</td>\n",
              "      <td>2</td>\n",
              "      <td>station</td>\n",
              "      <td>ok</td>\n",
              "      <td>nonexistent</td>\n",
              "      <td>2018</td>\n",
              "      <td>4</td>\n",
              "      <td>8</td>\n",
              "      <td>11</td>\n",
              "      <td>43</td>\n",
              "    </tr>\n",
              "    <tr>\n",
              "      <th>1</th>\n",
              "      <td>145 Rue Raymond Losserand</td>\n",
              "      <td>6</td>\n",
              "      <td>6</td>\n",
              "      <td>0</td>\n",
              "      <td>0</td>\n",
              "      <td>0</td>\n",
              "      <td>operational</td>\n",
              "      <td>Paris</td>\n",
              "      <td>NaN</td>\n",
              "      <td>paris-raymondlosserand-145</td>\n",
              "      <td>STATION</td>\n",
              "      <td>48.83126, 2.313088</td>\n",
              "      <td>75014</td>\n",
              "      <td>Paris/Raymond Losserand/145</td>\n",
              "      <td>operational</td>\n",
              "      <td>NaN</td>\n",
              "      <td>0</td>\n",
              "      <td>station</td>\n",
              "      <td>ok</td>\n",
              "      <td>nonexistent</td>\n",
              "      <td>2018</td>\n",
              "      <td>4</td>\n",
              "      <td>6</td>\n",
              "      <td>7</td>\n",
              "      <td>24</td>\n",
              "    </tr>\n",
              "    <tr>\n",
              "      <th>2</th>\n",
              "      <td>2 Avenue John Fitzgerald Kennedy</td>\n",
              "      <td>3</td>\n",
              "      <td>3</td>\n",
              "      <td>0</td>\n",
              "      <td>2</td>\n",
              "      <td>0</td>\n",
              "      <td>operational</td>\n",
              "      <td>Le Bourget</td>\n",
              "      <td>NaN</td>\n",
              "      <td>lebourget-johnfitzgeraldkennedy-2</td>\n",
              "      <td>STATION</td>\n",
              "      <td>48.938103, 2.4286035</td>\n",
              "      <td>93350</td>\n",
              "      <td>Le Bourget/John Fitzgerald Kennedy/2</td>\n",
              "      <td>operational</td>\n",
              "      <td>NaN</td>\n",
              "      <td>1</td>\n",
              "      <td>station</td>\n",
              "      <td>ok</td>\n",
              "      <td>nonexistent</td>\n",
              "      <td>2018</td>\n",
              "      <td>4</td>\n",
              "      <td>3</td>\n",
              "      <td>20</td>\n",
              "      <td>14</td>\n",
              "    </tr>\n",
              "  </tbody>\n",
              "</table>\n",
              "</div>"
            ],
            "text/plain": [
              "                            address  cars  bluecarcounter  ...  day  hour  minute\n",
              "0               2 Avenue de Suffren     0               0  ...    8    11      43\n",
              "1         145 Rue Raymond Losserand     6               6  ...    6     7      24\n",
              "2  2 Avenue John Fitzgerald Kennedy     3               3  ...    3    20      14\n",
              "\n",
              "[3 rows x 25 columns]"
            ]
          },
          "metadata": {
            "tags": []
          },
          "execution_count": 87
        }
      ]
    },
    {
      "cell_type": "code",
      "metadata": {
        "id": "zDyKUM6aGb3Y",
        "colab_type": "code",
        "outputId": "3581f46a-636a-444b-a320-9189c7affcc5",
        "colab": {
          "base_uri": "https://localhost:8080/",
          "height": 138
        }
      },
      "source": [
        "# Procedure 2: Irrelevant data\n",
        "# Data cleaning action: Dropping columns;Charge slots, Charging status,Displayed comment, Kind, Geo point, Public name, Rental status, Sceduled at, Slots, Station type, Status, Subscription status, Minute, day\n",
        "# Explanation: We will not be needing the named columns for our project\n",
        "#\n",
        "station1= init_station. drop( columns= ['year','month','displayedcomment','kind','geopoint','publicname','rentalstatus','scheduledat','slots','stationtype','status','subscriptionstatus','minute','day','chargeslots', 'chargingstatus'])\n",
        "station1.head(3)"
      ],
      "execution_count": 182,
      "outputs": [
        {
          "output_type": "execute_result",
          "data": {
            "text/html": [
              "<div>\n",
              "<style scoped>\n",
              "    .dataframe tbody tr th:only-of-type {\n",
              "        vertical-align: middle;\n",
              "    }\n",
              "\n",
              "    .dataframe tbody tr th {\n",
              "        vertical-align: top;\n",
              "    }\n",
              "\n",
              "    .dataframe thead th {\n",
              "        text-align: right;\n",
              "    }\n",
              "</style>\n",
              "<table border=\"1\" class=\"dataframe\">\n",
              "  <thead>\n",
              "    <tr style=\"text-align: right;\">\n",
              "      <th></th>\n",
              "      <th>address</th>\n",
              "      <th>cars</th>\n",
              "      <th>bluecarcounter</th>\n",
              "      <th>utilibcounter</th>\n",
              "      <th>utilib1.4counter</th>\n",
              "      <th>city</th>\n",
              "      <th>id</th>\n",
              "      <th>postalcode</th>\n",
              "      <th>hour</th>\n",
              "    </tr>\n",
              "  </thead>\n",
              "  <tbody>\n",
              "    <tr>\n",
              "      <th>0</th>\n",
              "      <td>2 Avenue de Suffren</td>\n",
              "      <td>0</td>\n",
              "      <td>0</td>\n",
              "      <td>0</td>\n",
              "      <td>0</td>\n",
              "      <td>Paris</td>\n",
              "      <td>paris-suffren-2</td>\n",
              "      <td>75015</td>\n",
              "      <td>11</td>\n",
              "    </tr>\n",
              "    <tr>\n",
              "      <th>1</th>\n",
              "      <td>145 Rue Raymond Losserand</td>\n",
              "      <td>6</td>\n",
              "      <td>6</td>\n",
              "      <td>0</td>\n",
              "      <td>0</td>\n",
              "      <td>Paris</td>\n",
              "      <td>paris-raymondlosserand-145</td>\n",
              "      <td>75014</td>\n",
              "      <td>7</td>\n",
              "    </tr>\n",
              "    <tr>\n",
              "      <th>2</th>\n",
              "      <td>2 Avenue John Fitzgerald Kennedy</td>\n",
              "      <td>3</td>\n",
              "      <td>3</td>\n",
              "      <td>0</td>\n",
              "      <td>2</td>\n",
              "      <td>Le Bourget</td>\n",
              "      <td>lebourget-johnfitzgeraldkennedy-2</td>\n",
              "      <td>93350</td>\n",
              "      <td>20</td>\n",
              "    </tr>\n",
              "  </tbody>\n",
              "</table>\n",
              "</div>"
            ],
            "text/plain": [
              "                            address  cars  ...  postalcode  hour\n",
              "0               2 Avenue de Suffren     0  ...       75015    11\n",
              "1         145 Rue Raymond Losserand     6  ...       75014     7\n",
              "2  2 Avenue John Fitzgerald Kennedy     3  ...       93350    20\n",
              "\n",
              "[3 rows x 9 columns]"
            ]
          },
          "metadata": {
            "tags": []
          },
          "execution_count": 182
        }
      ]
    },
    {
      "cell_type": "markdown",
      "metadata": {
        "id": "4vxhfL5QxPwx",
        "colab_type": "text"
      },
      "source": [
        "# Accuracy\n"
      ]
    },
    {
      "cell_type": "code",
      "metadata": {
        "id": "4kLLP7S85YR0",
        "colab_type": "code",
        "outputId": "4670059c-af15-4e3c-b4e3-bc58af3335dd",
        "colab": {
          "base_uri": "https://localhost:8080/",
          "height": 138
        }
      },
      "source": [
        "# Procedure 1\n",
        "# Data cleaning action: Make sure that column cars= blue car counter+ utilib counter + utilib1.4 counter\n",
        "# Explanation: There are some values that do not reflect the actual sum\n",
        "#\n",
        "station1['cars'] = station1['bluecarcounter'] + station1['utilib1.4counter']+ station1['utilibcounter']\n",
        "station1.head(3)"
      ],
      "execution_count": 183,
      "outputs": [
        {
          "output_type": "execute_result",
          "data": {
            "text/html": [
              "<div>\n",
              "<style scoped>\n",
              "    .dataframe tbody tr th:only-of-type {\n",
              "        vertical-align: middle;\n",
              "    }\n",
              "\n",
              "    .dataframe tbody tr th {\n",
              "        vertical-align: top;\n",
              "    }\n",
              "\n",
              "    .dataframe thead th {\n",
              "        text-align: right;\n",
              "    }\n",
              "</style>\n",
              "<table border=\"1\" class=\"dataframe\">\n",
              "  <thead>\n",
              "    <tr style=\"text-align: right;\">\n",
              "      <th></th>\n",
              "      <th>address</th>\n",
              "      <th>cars</th>\n",
              "      <th>bluecarcounter</th>\n",
              "      <th>utilibcounter</th>\n",
              "      <th>utilib1.4counter</th>\n",
              "      <th>city</th>\n",
              "      <th>id</th>\n",
              "      <th>postalcode</th>\n",
              "      <th>hour</th>\n",
              "    </tr>\n",
              "  </thead>\n",
              "  <tbody>\n",
              "    <tr>\n",
              "      <th>0</th>\n",
              "      <td>2 Avenue de Suffren</td>\n",
              "      <td>0</td>\n",
              "      <td>0</td>\n",
              "      <td>0</td>\n",
              "      <td>0</td>\n",
              "      <td>Paris</td>\n",
              "      <td>paris-suffren-2</td>\n",
              "      <td>75015</td>\n",
              "      <td>11</td>\n",
              "    </tr>\n",
              "    <tr>\n",
              "      <th>1</th>\n",
              "      <td>145 Rue Raymond Losserand</td>\n",
              "      <td>6</td>\n",
              "      <td>6</td>\n",
              "      <td>0</td>\n",
              "      <td>0</td>\n",
              "      <td>Paris</td>\n",
              "      <td>paris-raymondlosserand-145</td>\n",
              "      <td>75014</td>\n",
              "      <td>7</td>\n",
              "    </tr>\n",
              "    <tr>\n",
              "      <th>2</th>\n",
              "      <td>2 Avenue John Fitzgerald Kennedy</td>\n",
              "      <td>5</td>\n",
              "      <td>3</td>\n",
              "      <td>0</td>\n",
              "      <td>2</td>\n",
              "      <td>Le Bourget</td>\n",
              "      <td>lebourget-johnfitzgeraldkennedy-2</td>\n",
              "      <td>93350</td>\n",
              "      <td>20</td>\n",
              "    </tr>\n",
              "  </tbody>\n",
              "</table>\n",
              "</div>"
            ],
            "text/plain": [
              "                            address  cars  ...  postalcode  hour\n",
              "0               2 Avenue de Suffren     0  ...       75015    11\n",
              "1         145 Rue Raymond Losserand     6  ...       75014     7\n",
              "2  2 Avenue John Fitzgerald Kennedy     5  ...       93350    20\n",
              "\n",
              "[3 rows x 9 columns]"
            ]
          },
          "metadata": {
            "tags": []
          },
          "execution_count": 183
        }
      ]
    },
    {
      "cell_type": "markdown",
      "metadata": {
        "id": "ZaTOrb1bxWVZ",
        "colab_type": "text"
      },
      "source": [
        "# Completeness"
      ]
    },
    {
      "cell_type": "markdown",
      "metadata": {
        "id": "BNt7m_nXJrVk",
        "colab_type": "text"
      },
      "source": [
        "check out and deal with missing values"
      ]
    },
    {
      "cell_type": "code",
      "metadata": {
        "id": "qjfu4pvnvPjx",
        "colab_type": "code",
        "outputId": "dcd4e6ac-435b-4a24-e216-4d212f37c7c5",
        "colab": {
          "base_uri": "https://localhost:8080/",
          "height": 199
        }
      },
      "source": [
        "# Procedure 1\n",
        "# Data cleaning action: Find missing values\n",
        "# Explanation: So that we can get rid of missing values\n",
        "#\n",
        "station1.isnull().sum()\n",
        "# we have no missing values"
      ],
      "execution_count": 184,
      "outputs": [
        {
          "output_type": "execute_result",
          "data": {
            "text/plain": [
              "address             0\n",
              "cars                0\n",
              "bluecarcounter      0\n",
              "utilibcounter       0\n",
              "utilib1.4counter    0\n",
              "city                0\n",
              "id                  0\n",
              "postalcode          0\n",
              "hour                0\n",
              "dtype: int64"
            ]
          },
          "metadata": {
            "tags": []
          },
          "execution_count": 184
        }
      ]
    },
    {
      "cell_type": "markdown",
      "metadata": {
        "id": "hv4TVjPYxr-1",
        "colab_type": "text"
      },
      "source": [
        "# Consistency\n"
      ]
    },
    {
      "cell_type": "code",
      "metadata": {
        "id": "IqwJeM3N5gbJ",
        "colab_type": "code",
        "outputId": "3407153e-d6a5-410c-dc63-e667c94a8679",
        "colab": {
          "base_uri": "https://localhost:8080/",
          "height": 138
        }
      },
      "source": [
        "# Procedure 1\n",
        "# Data cleaning action: Drop duplicates\n",
        "# Explanation: To avoid repetition in our dataset\n",
        "#\n",
        "station1_non_duplicates= station1.drop_duplicates()\n",
        "station1_non_duplicates. head(3)"
      ],
      "execution_count": 185,
      "outputs": [
        {
          "output_type": "execute_result",
          "data": {
            "text/html": [
              "<div>\n",
              "<style scoped>\n",
              "    .dataframe tbody tr th:only-of-type {\n",
              "        vertical-align: middle;\n",
              "    }\n",
              "\n",
              "    .dataframe tbody tr th {\n",
              "        vertical-align: top;\n",
              "    }\n",
              "\n",
              "    .dataframe thead th {\n",
              "        text-align: right;\n",
              "    }\n",
              "</style>\n",
              "<table border=\"1\" class=\"dataframe\">\n",
              "  <thead>\n",
              "    <tr style=\"text-align: right;\">\n",
              "      <th></th>\n",
              "      <th>address</th>\n",
              "      <th>cars</th>\n",
              "      <th>bluecarcounter</th>\n",
              "      <th>utilibcounter</th>\n",
              "      <th>utilib1.4counter</th>\n",
              "      <th>city</th>\n",
              "      <th>id</th>\n",
              "      <th>postalcode</th>\n",
              "      <th>hour</th>\n",
              "    </tr>\n",
              "  </thead>\n",
              "  <tbody>\n",
              "    <tr>\n",
              "      <th>0</th>\n",
              "      <td>2 Avenue de Suffren</td>\n",
              "      <td>0</td>\n",
              "      <td>0</td>\n",
              "      <td>0</td>\n",
              "      <td>0</td>\n",
              "      <td>Paris</td>\n",
              "      <td>paris-suffren-2</td>\n",
              "      <td>75015</td>\n",
              "      <td>11</td>\n",
              "    </tr>\n",
              "    <tr>\n",
              "      <th>1</th>\n",
              "      <td>145 Rue Raymond Losserand</td>\n",
              "      <td>6</td>\n",
              "      <td>6</td>\n",
              "      <td>0</td>\n",
              "      <td>0</td>\n",
              "      <td>Paris</td>\n",
              "      <td>paris-raymondlosserand-145</td>\n",
              "      <td>75014</td>\n",
              "      <td>7</td>\n",
              "    </tr>\n",
              "    <tr>\n",
              "      <th>2</th>\n",
              "      <td>2 Avenue John Fitzgerald Kennedy</td>\n",
              "      <td>5</td>\n",
              "      <td>3</td>\n",
              "      <td>0</td>\n",
              "      <td>2</td>\n",
              "      <td>Le Bourget</td>\n",
              "      <td>lebourget-johnfitzgeraldkennedy-2</td>\n",
              "      <td>93350</td>\n",
              "      <td>20</td>\n",
              "    </tr>\n",
              "  </tbody>\n",
              "</table>\n",
              "</div>"
            ],
            "text/plain": [
              "                            address  cars  ...  postalcode  hour\n",
              "0               2 Avenue de Suffren     0  ...       75015    11\n",
              "1         145 Rue Raymond Losserand     6  ...       75014     7\n",
              "2  2 Avenue John Fitzgerald Kennedy     5  ...       93350    20\n",
              "\n",
              "[3 rows x 9 columns]"
            ]
          },
          "metadata": {
            "tags": []
          },
          "execution_count": 185
        }
      ]
    },
    {
      "cell_type": "markdown",
      "metadata": {
        "id": "YC74n_TLxw_m",
        "colab_type": "text"
      },
      "source": [
        "# Uniformity"
      ]
    },
    {
      "cell_type": "code",
      "metadata": {
        "id": "7U-FjREo5iVA",
        "colab_type": "code",
        "outputId": "07b8c929-f3f1-4037-c894-e161513d2985",
        "colab": {
          "base_uri": "https://localhost:8080/",
          "height": 173
        }
      },
      "source": [
        "# Procedure 1\n",
        "# Data cleaning action: Renaming our columns\n",
        "# Explanation: To make it easy to understand\n",
        "#\n",
        "station1_non_duplicates.columns= ['address','cars','bluecar','utilib','utilib1.4','city','id','postalcode','hour']\n",
        "station1_non_duplicates.head(3)"
      ],
      "execution_count": 187,
      "outputs": [
        {
          "output_type": "execute_result",
          "data": {
            "text/html": [
              "<div>\n",
              "<style scoped>\n",
              "    .dataframe tbody tr th:only-of-type {\n",
              "        vertical-align: middle;\n",
              "    }\n",
              "\n",
              "    .dataframe tbody tr th {\n",
              "        vertical-align: top;\n",
              "    }\n",
              "\n",
              "    .dataframe thead th {\n",
              "        text-align: right;\n",
              "    }\n",
              "</style>\n",
              "<table border=\"1\" class=\"dataframe\">\n",
              "  <thead>\n",
              "    <tr style=\"text-align: right;\">\n",
              "      <th></th>\n",
              "      <th>address</th>\n",
              "      <th>cars</th>\n",
              "      <th>bluecar</th>\n",
              "      <th>utilib</th>\n",
              "      <th>utilib1.4</th>\n",
              "      <th>city</th>\n",
              "      <th>id</th>\n",
              "      <th>postalcode</th>\n",
              "      <th>hour</th>\n",
              "    </tr>\n",
              "  </thead>\n",
              "  <tbody>\n",
              "    <tr>\n",
              "      <th>0</th>\n",
              "      <td>2 Avenue de Suffren</td>\n",
              "      <td>0</td>\n",
              "      <td>0</td>\n",
              "      <td>0</td>\n",
              "      <td>0</td>\n",
              "      <td>Paris</td>\n",
              "      <td>paris-suffren-2</td>\n",
              "      <td>75015</td>\n",
              "      <td>11</td>\n",
              "    </tr>\n",
              "    <tr>\n",
              "      <th>1</th>\n",
              "      <td>145 Rue Raymond Losserand</td>\n",
              "      <td>6</td>\n",
              "      <td>6</td>\n",
              "      <td>0</td>\n",
              "      <td>0</td>\n",
              "      <td>Paris</td>\n",
              "      <td>paris-raymondlosserand-145</td>\n",
              "      <td>75014</td>\n",
              "      <td>7</td>\n",
              "    </tr>\n",
              "    <tr>\n",
              "      <th>2</th>\n",
              "      <td>2 Avenue John Fitzgerald Kennedy</td>\n",
              "      <td>5</td>\n",
              "      <td>3</td>\n",
              "      <td>0</td>\n",
              "      <td>2</td>\n",
              "      <td>Le Bourget</td>\n",
              "      <td>lebourget-johnfitzgeraldkennedy-2</td>\n",
              "      <td>93350</td>\n",
              "      <td>20</td>\n",
              "    </tr>\n",
              "  </tbody>\n",
              "</table>\n",
              "</div>"
            ],
            "text/plain": [
              "                            address  cars  ...  postalcode  hour\n",
              "0               2 Avenue de Suffren     0  ...       75015    11\n",
              "1         145 Rue Raymond Losserand     6  ...       75014     7\n",
              "2  2 Avenue John Fitzgerald Kennedy     5  ...       93350    20\n",
              "\n",
              "[3 rows x 9 columns]"
            ]
          },
          "metadata": {
            "tags": []
          },
          "execution_count": 187
        }
      ]
    },
    {
      "cell_type": "markdown",
      "metadata": {
        "id": "_YofyWx_x5Gn",
        "colab_type": "text"
      },
      "source": [
        "# Exporting a cleaned dataset"
      ]
    },
    {
      "cell_type": "code",
      "metadata": {
        "id": "u4_7RBWOPIPx",
        "colab_type": "code",
        "colab": {}
      },
      "source": [
        "# Procedure 1 \n",
        "# Explanation: Lets export our dataframe to a csv file\n",
        "#\n",
        "station1_non_duplicates.to_csv(\"car_dealer.csv\",index= False)"
      ],
      "execution_count": 0,
      "outputs": []
    },
    {
      "cell_type": "markdown",
      "metadata": {
        "id": "5-zjTH83xw-S",
        "colab_type": "text"
      },
      "source": [
        "# Answering Questions"
      ]
    },
    {
      "cell_type": "code",
      "metadata": {
        "id": "0qfMlWrMTyB4",
        "colab_type": "code",
        "outputId": "7d0e06ce-6fe8-4512-d40d-6180c46926ab",
        "colab": {
          "base_uri": "https://localhost:8080/",
          "height": 267
        }
      },
      "source": [
        "# Read our csv file\n",
        "df= pd.read_csv('car_dealer.csv')\n",
        "df.head()"
      ],
      "execution_count": 189,
      "outputs": [
        {
          "output_type": "execute_result",
          "data": {
            "text/html": [
              "<div>\n",
              "<style scoped>\n",
              "    .dataframe tbody tr th:only-of-type {\n",
              "        vertical-align: middle;\n",
              "    }\n",
              "\n",
              "    .dataframe tbody tr th {\n",
              "        vertical-align: top;\n",
              "    }\n",
              "\n",
              "    .dataframe thead th {\n",
              "        text-align: right;\n",
              "    }\n",
              "</style>\n",
              "<table border=\"1\" class=\"dataframe\">\n",
              "  <thead>\n",
              "    <tr style=\"text-align: right;\">\n",
              "      <th></th>\n",
              "      <th>address</th>\n",
              "      <th>cars</th>\n",
              "      <th>bluecar</th>\n",
              "      <th>utilib</th>\n",
              "      <th>utilib1.4</th>\n",
              "      <th>city</th>\n",
              "      <th>id</th>\n",
              "      <th>postalcode</th>\n",
              "      <th>hour</th>\n",
              "    </tr>\n",
              "  </thead>\n",
              "  <tbody>\n",
              "    <tr>\n",
              "      <th>0</th>\n",
              "      <td>2 Avenue de Suffren</td>\n",
              "      <td>0</td>\n",
              "      <td>0</td>\n",
              "      <td>0</td>\n",
              "      <td>0</td>\n",
              "      <td>Paris</td>\n",
              "      <td>paris-suffren-2</td>\n",
              "      <td>75015</td>\n",
              "      <td>11</td>\n",
              "    </tr>\n",
              "    <tr>\n",
              "      <th>1</th>\n",
              "      <td>145 Rue Raymond Losserand</td>\n",
              "      <td>6</td>\n",
              "      <td>6</td>\n",
              "      <td>0</td>\n",
              "      <td>0</td>\n",
              "      <td>Paris</td>\n",
              "      <td>paris-raymondlosserand-145</td>\n",
              "      <td>75014</td>\n",
              "      <td>7</td>\n",
              "    </tr>\n",
              "    <tr>\n",
              "      <th>2</th>\n",
              "      <td>2 Avenue John Fitzgerald Kennedy</td>\n",
              "      <td>5</td>\n",
              "      <td>3</td>\n",
              "      <td>0</td>\n",
              "      <td>2</td>\n",
              "      <td>Le Bourget</td>\n",
              "      <td>lebourget-johnfitzgeraldkennedy-2</td>\n",
              "      <td>93350</td>\n",
              "      <td>20</td>\n",
              "    </tr>\n",
              "    <tr>\n",
              "      <th>3</th>\n",
              "      <td>51 Rue EugÃ¨ne OudinÃ©</td>\n",
              "      <td>4</td>\n",
              "      <td>3</td>\n",
              "      <td>1</td>\n",
              "      <td>0</td>\n",
              "      <td>Paris</td>\n",
              "      <td>paris-eugeneoudine-51</td>\n",
              "      <td>75013</td>\n",
              "      <td>4</td>\n",
              "    </tr>\n",
              "    <tr>\n",
              "      <th>4</th>\n",
              "      <td>6 avenue de la Porte de Champerret</td>\n",
              "      <td>3</td>\n",
              "      <td>3</td>\n",
              "      <td>0</td>\n",
              "      <td>0</td>\n",
              "      <td>Paris</td>\n",
              "      <td>paris-portedechamperret-6</td>\n",
              "      <td>75017</td>\n",
              "      <td>17</td>\n",
              "    </tr>\n",
              "  </tbody>\n",
              "</table>\n",
              "</div>"
            ],
            "text/plain": [
              "                              address  cars  ...  postalcode  hour\n",
              "0                 2 Avenue de Suffren     0  ...       75015    11\n",
              "1           145 Rue Raymond Losserand     6  ...       75014     7\n",
              "2    2 Avenue John Fitzgerald Kennedy     5  ...       93350    20\n",
              "3              51 Rue EugÃ¨ne OudinÃ©     4  ...       75013     4\n",
              "4  6 avenue de la Porte de Champerret     3  ...       75017    17\n",
              "\n",
              "[5 rows x 9 columns]"
            ]
          },
          "metadata": {
            "tags": []
          },
          "execution_count": 189
        }
      ]
    },
    {
      "cell_type": "code",
      "metadata": {
        "id": "TX9X4YryZYR3",
        "colab_type": "code",
        "outputId": "daa33518-4b97-4552-dd53-bbe6b935760c",
        "colab": {
          "base_uri": "https://localhost:8080/",
          "height": 283
        }
      },
      "source": [
        "# Checking for outliers\n",
        "# \n",
        "df.cars.hist()"
      ],
      "execution_count": 190,
      "outputs": [
        {
          "output_type": "execute_result",
          "data": {
            "text/plain": [
              "<matplotlib.axes._subplots.AxesSubplot at 0x7fbfa8a635f8>"
            ]
          },
          "metadata": {
            "tags": []
          },
          "execution_count": 190
        },
        {
          "output_type": "display_data",
          "data": {
            "image/png": "[encoded data removed]",
            "text/plain": [
              "<Figure size 432x288 with 1 Axes>"
            ]
          },
          "metadata": {
            "tags": [],
            "needs_background": "light"
          }
        }
      ]
    },
    {
      "cell_type": "code",
      "metadata": {
        "id": "iCOEl9TczaRi",
        "colab_type": "code",
        "outputId": "3112114a-5bc0-4fc5-f488-fbe44731ad6b",
        "colab": {
          "base_uri": "https://localhost:8080/",
          "height": 198
        }
      },
      "source": [
        "#Identify the most popular hour of the day for picking up a shared electric car (Bluecar) in the city of Paris over the month of April 2018.\n",
        "\n",
        "df1=df[(df.city=='Paris')]\n",
        "df1\n",
        "x =df1.pivot_table(['bluecar'],['hour'],aggfunc= 'sum')\n",
        "y=x.reset_index()\n",
        "z= y.sort_values(by=['bluecar'],ascending= True)\n",
        "z.head(5)\n",
        "# The most popular hour for picking up the Bluecar in the city of Paris on April 2018 was the 20th hour with 147 blue cars as shown below.\n",
        "# This is because the car sharing company recorded the least number of cars in the station."
      ],
      "execution_count": 207,
      "outputs": [
        {
          "output_type": "execute_result",
          "data": {
            "text/html": [
              "<div>\n",
              "<style scoped>\n",
              "    .dataframe tbody tr th:only-of-type {\n",
              "        vertical-align: middle;\n",
              "    }\n",
              "\n",
              "    .dataframe tbody tr th {\n",
              "        vertical-align: top;\n",
              "    }\n",
              "\n",
              "    .dataframe thead th {\n",
              "        text-align: right;\n",
              "    }\n",
              "</style>\n",
              "<table border=\"1\" class=\"dataframe\">\n",
              "  <thead>\n",
              "    <tr style=\"text-align: right;\">\n",
              "      <th></th>\n",
              "      <th>hour</th>\n",
              "      <th>bluecar</th>\n",
              "    </tr>\n",
              "  </thead>\n",
              "  <tbody>\n",
              "    <tr>\n",
              "      <th>20</th>\n",
              "      <td>20</td>\n",
              "      <td>147</td>\n",
              "    </tr>\n",
              "    <tr>\n",
              "      <th>14</th>\n",
              "      <td>14</td>\n",
              "      <td>163</td>\n",
              "    </tr>\n",
              "    <tr>\n",
              "      <th>23</th>\n",
              "      <td>23</td>\n",
              "      <td>186</td>\n",
              "    </tr>\n",
              "    <tr>\n",
              "      <th>17</th>\n",
              "      <td>17</td>\n",
              "      <td>187</td>\n",
              "    </tr>\n",
              "    <tr>\n",
              "      <th>18</th>\n",
              "      <td>18</td>\n",
              "      <td>191</td>\n",
              "    </tr>\n",
              "  </tbody>\n",
              "</table>\n",
              "</div>"
            ],
            "text/plain": [
              "    hour  bluecar\n",
              "20    20      147\n",
              "14    14      163\n",
              "23    23      186\n",
              "17    17      187\n",
              "18    18      191"
            ]
          },
          "metadata": {
            "tags": []
          },
          "execution_count": 207
        }
      ]
    },
    {
      "cell_type": "code",
      "metadata": {
        "id": "WKLymUatRWV0",
        "colab_type": "code",
        "outputId": "ef0212e2-7896-431f-b48a-5cecfa29c4ca",
        "colab": {
          "base_uri": "https://localhost:8080/",
          "height": 198
        }
      },
      "source": [
        "#What is the most popular hour for returning cars?\n",
        "#\n",
        "p= df.pivot_table(['cars'],['hour'],aggfunc= 'sum')\n",
        "q=p.reset_index()\n",
        "r= q.sort_values(by=['cars'],ascending= False)\n",
        "r.head(5)\n",
        "# The most popular hour for returning cars is the 6th hour as it records the highest number of cars in the station"
      ],
      "execution_count": 208,
      "outputs": [
        {
          "output_type": "execute_result",
          "data": {
            "text/html": [
              "<div>\n",
              "<style scoped>\n",
              "    .dataframe tbody tr th:only-of-type {\n",
              "        vertical-align: middle;\n",
              "    }\n",
              "\n",
              "    .dataframe tbody tr th {\n",
              "        vertical-align: top;\n",
              "    }\n",
              "\n",
              "    .dataframe thead th {\n",
              "        text-align: right;\n",
              "    }\n",
              "</style>\n",
              "<table border=\"1\" class=\"dataframe\">\n",
              "  <thead>\n",
              "    <tr style=\"text-align: right;\">\n",
              "      <th></th>\n",
              "      <th>hour</th>\n",
              "      <th>cars</th>\n",
              "    </tr>\n",
              "  </thead>\n",
              "  <tbody>\n",
              "    <tr>\n",
              "      <th>6</th>\n",
              "      <td>6</td>\n",
              "      <td>653</td>\n",
              "    </tr>\n",
              "    <tr>\n",
              "      <th>3</th>\n",
              "      <td>3</td>\n",
              "      <td>599</td>\n",
              "    </tr>\n",
              "    <tr>\n",
              "      <th>7</th>\n",
              "      <td>7</td>\n",
              "      <td>583</td>\n",
              "    </tr>\n",
              "    <tr>\n",
              "      <th>5</th>\n",
              "      <td>5</td>\n",
              "      <td>579</td>\n",
              "    </tr>\n",
              "    <tr>\n",
              "      <th>2</th>\n",
              "      <td>2</td>\n",
              "      <td>573</td>\n",
              "    </tr>\n",
              "  </tbody>\n",
              "</table>\n",
              "</div>"
            ],
            "text/plain": [
              "   hour  cars\n",
              "6     6   653\n",
              "3     3   599\n",
              "7     7   583\n",
              "5     5   579\n",
              "2     2   573"
            ]
          },
          "metadata": {
            "tags": []
          },
          "execution_count": 208
        }
      ]
    },
    {
      "cell_type": "code",
      "metadata": {
        "id": "bfDjCkQHSzdf",
        "colab_type": "code",
        "outputId": "f4c5c2d4-3d8a-4365-c410-e2dd2696f63a",
        "colab": {
          "base_uri": "https://localhost:8080/",
          "height": 198
        }
      },
      "source": [
        "#What station is the most popular Overall?\n",
        "#\n",
        "s= df.pivot_table(['cars'],['address'],aggfunc= 'sum')\n",
        "q=s.reset_index()\n",
        "t= q.sort_values(by=['cars'],ascending= False)\n",
        "t.head(5)\n",
        "# 8Avenue de la Porte de Montrouge is the most popular station recording a total of 50 cars recorded"
      ],
      "execution_count": 209,
      "outputs": [
        {
          "output_type": "execute_result",
          "data": {
            "text/html": [
              "<div>\n",
              "<style scoped>\n",
              "    .dataframe tbody tr th:only-of-type {\n",
              "        vertical-align: middle;\n",
              "    }\n",
              "\n",
              "    .dataframe tbody tr th {\n",
              "        vertical-align: top;\n",
              "    }\n",
              "\n",
              "    .dataframe thead th {\n",
              "        text-align: right;\n",
              "    }\n",
              "</style>\n",
              "<table border=\"1\" class=\"dataframe\">\n",
              "  <thead>\n",
              "    <tr style=\"text-align: right;\">\n",
              "      <th></th>\n",
              "      <th>address</th>\n",
              "      <th>cars</th>\n",
              "    </tr>\n",
              "  </thead>\n",
              "  <tbody>\n",
              "    <tr>\n",
              "      <th>1015</th>\n",
              "      <td>8 Avenue de la Porte de Montrouge</td>\n",
              "      <td>50</td>\n",
              "    </tr>\n",
              "    <tr>\n",
              "      <th>651</th>\n",
              "      <td>32 rue Robert Marchand</td>\n",
              "      <td>50</td>\n",
              "    </tr>\n",
              "    <tr>\n",
              "      <th>282</th>\n",
              "      <td>16 avenue GalilÃ©e</td>\n",
              "      <td>49</td>\n",
              "    </tr>\n",
              "    <tr>\n",
              "      <th>450</th>\n",
              "      <td>20 Avenue Lombard</td>\n",
              "      <td>48</td>\n",
              "    </tr>\n",
              "    <tr>\n",
              "      <th>640</th>\n",
              "      <td>31 avenue de la Division Leclerc</td>\n",
              "      <td>46</td>\n",
              "    </tr>\n",
              "  </tbody>\n",
              "</table>\n",
              "</div>"
            ],
            "text/plain": [
              "                                address  cars\n",
              "1015  8 Avenue de la Porte de Montrouge    50\n",
              "651              32 rue Robert Marchand    50\n",
              "282                  16 avenue GalilÃ©e    49\n",
              "450                   20 Avenue Lombard    48\n",
              "640    31 avenue de la Division Leclerc    46"
            ]
          },
          "metadata": {
            "tags": []
          },
          "execution_count": 209
        }
      ]
    },
    {
      "cell_type": "code",
      "metadata": {
        "id": "N44I15wrS-Wv",
        "colab_type": "code",
        "outputId": "b1cf9a94-c8ee-42d2-ebf5-1ebb53ebabd7",
        "colab": {
          "base_uri": "https://localhost:8080/",
          "height": 198
        }
      },
      "source": [
        "#The most popular picking hour?\n",
        "#\n",
        "a= df.pivot_table(['cars'],['hour'],aggfunc= 'sum')\n",
        "b=a.reset_index()\n",
        "c=b.sort_values(by=['cars'],ascending= True)\n",
        "c.head()\n",
        "# The most popular picking hour is the 19th hour as it records the least amount of cars overall"
      ],
      "execution_count": 210,
      "outputs": [
        {
          "output_type": "execute_result",
          "data": {
            "text/html": [
              "<div>\n",
              "<style scoped>\n",
              "    .dataframe tbody tr th:only-of-type {\n",
              "        vertical-align: middle;\n",
              "    }\n",
              "\n",
              "    .dataframe tbody tr th {\n",
              "        vertical-align: top;\n",
              "    }\n",
              "\n",
              "    .dataframe thead th {\n",
              "        text-align: right;\n",
              "    }\n",
              "</style>\n",
              "<table border=\"1\" class=\"dataframe\">\n",
              "  <thead>\n",
              "    <tr style=\"text-align: right;\">\n",
              "      <th></th>\n",
              "      <th>hour</th>\n",
              "      <th>cars</th>\n",
              "    </tr>\n",
              "  </thead>\n",
              "  <tbody>\n",
              "    <tr>\n",
              "      <th>19</th>\n",
              "      <td>19</td>\n",
              "      <td>422</td>\n",
              "    </tr>\n",
              "    <tr>\n",
              "      <th>20</th>\n",
              "      <td>20</td>\n",
              "      <td>433</td>\n",
              "    </tr>\n",
              "    <tr>\n",
              "      <th>23</th>\n",
              "      <td>23</td>\n",
              "      <td>442</td>\n",
              "    </tr>\n",
              "    <tr>\n",
              "      <th>14</th>\n",
              "      <td>14</td>\n",
              "      <td>461</td>\n",
              "    </tr>\n",
              "    <tr>\n",
              "      <th>18</th>\n",
              "      <td>18</td>\n",
              "      <td>463</td>\n",
              "    </tr>\n",
              "  </tbody>\n",
              "</table>\n",
              "</div>"
            ],
            "text/plain": [
              "    hour  cars\n",
              "19    19   422\n",
              "20    20   433\n",
              "23    23   442\n",
              "14    14   461\n",
              "18    18   463"
            ]
          },
          "metadata": {
            "tags": []
          },
          "execution_count": 210
        }
      ]
    },
    {
      "cell_type": "code",
      "metadata": {
        "id": "FhhgBMURTIjo",
        "colab_type": "code",
        "outputId": "94b2fdba-c13f-48ac-e1fc-a63019796c5a",
        "colab": {
          "base_uri": "https://localhost:8080/",
          "height": 198
        }
      },
      "source": [
        "#What postal code is the most popular for picking up Blue cars? Does the most popular station belong to that postal code? \n",
        "#Overall?At the most popular picking hour?\n",
        "#\n",
        "u= df.pivot_table(['bluecar'],['postalcode'],aggfunc= 'sum')\n",
        "v=u.reset_index()\n",
        "w= v.sort_values(by=['bluecar'],ascending= False)\n",
        "w.head()"
      ],
      "execution_count": 211,
      "outputs": [
        {
          "output_type": "execute_result",
          "data": {
            "text/html": [
              "<div>\n",
              "<style scoped>\n",
              "    .dataframe tbody tr th:only-of-type {\n",
              "        vertical-align: middle;\n",
              "    }\n",
              "\n",
              "    .dataframe tbody tr th {\n",
              "        vertical-align: top;\n",
              "    }\n",
              "\n",
              "    .dataframe thead th {\n",
              "        text-align: right;\n",
              "    }\n",
              "</style>\n",
              "<table border=\"1\" class=\"dataframe\">\n",
              "  <thead>\n",
              "    <tr style=\"text-align: right;\">\n",
              "      <th></th>\n",
              "      <th>postalcode</th>\n",
              "      <th>bluecar</th>\n",
              "    </tr>\n",
              "  </thead>\n",
              "  <tbody>\n",
              "    <tr>\n",
              "      <th>14</th>\n",
              "      <td>75015</td>\n",
              "      <td>600</td>\n",
              "    </tr>\n",
              "    <tr>\n",
              "      <th>15</th>\n",
              "      <td>75016</td>\n",
              "      <td>594</td>\n",
              "    </tr>\n",
              "    <tr>\n",
              "      <th>16</th>\n",
              "      <td>75017</td>\n",
              "      <td>529</td>\n",
              "    </tr>\n",
              "    <tr>\n",
              "      <th>30</th>\n",
              "      <td>92000</td>\n",
              "      <td>454</td>\n",
              "    </tr>\n",
              "    <tr>\n",
              "      <th>19</th>\n",
              "      <td>75020</td>\n",
              "      <td>442</td>\n",
              "    </tr>\n",
              "  </tbody>\n",
              "</table>\n",
              "</div>"
            ],
            "text/plain": [
              "    postalcode  bluecar\n",
              "14       75015      600\n",
              "15       75016      594\n",
              "16       75017      529\n",
              "30       92000      454\n",
              "19       75020      442"
            ]
          },
          "metadata": {
            "tags": []
          },
          "execution_count": 211
        }
      ]
    },
    {
      "cell_type": "code",
      "metadata": {
        "id": "LefoPirIB6at",
        "colab_type": "code",
        "outputId": "eddb2ba3-e031-4862-a044-a2886eb4301e",
        "colab": {
          "base_uri": "https://localhost:8080/",
          "height": 190
        }
      },
      "source": [
        "# Lets find the postal code of 8 Avenue de la Porte de Montrouge\n",
        "df.loc[df['address'] == '8 Avenue de la Porte de Montrouge'].head(3)\n",
        "# Unfortunately, 8 Avenue de la Porte de Montrouge does not belong to the most popular postal code(75015) but belongs to postal code(75014)"
      ],
      "execution_count": 212,
      "outputs": [
        {
          "output_type": "execute_result",
          "data": {
            "text/html": [
              "<div>\n",
              "<style scoped>\n",
              "    .dataframe tbody tr th:only-of-type {\n",
              "        vertical-align: middle;\n",
              "    }\n",
              "\n",
              "    .dataframe tbody tr th {\n",
              "        vertical-align: top;\n",
              "    }\n",
              "\n",
              "    .dataframe thead th {\n",
              "        text-align: right;\n",
              "    }\n",
              "</style>\n",
              "<table border=\"1\" class=\"dataframe\">\n",
              "  <thead>\n",
              "    <tr style=\"text-align: right;\">\n",
              "      <th></th>\n",
              "      <th>address</th>\n",
              "      <th>cars</th>\n",
              "      <th>bluecar</th>\n",
              "      <th>utilib</th>\n",
              "      <th>utilib1.4</th>\n",
              "      <th>city</th>\n",
              "      <th>id</th>\n",
              "      <th>postalcode</th>\n",
              "      <th>hour</th>\n",
              "    </tr>\n",
              "  </thead>\n",
              "  <tbody>\n",
              "    <tr>\n",
              "      <th>122</th>\n",
              "      <td>8 Avenue de la Porte de Montrouge</td>\n",
              "      <td>4</td>\n",
              "      <td>3</td>\n",
              "      <td>0</td>\n",
              "      <td>1</td>\n",
              "      <td>Paris</td>\n",
              "      <td>paris-portedemontrouge-8</td>\n",
              "      <td>75014</td>\n",
              "      <td>19</td>\n",
              "    </tr>\n",
              "    <tr>\n",
              "      <th>194</th>\n",
              "      <td>8 Avenue de la Porte de Montrouge</td>\n",
              "      <td>2</td>\n",
              "      <td>1</td>\n",
              "      <td>1</td>\n",
              "      <td>0</td>\n",
              "      <td>Paris</td>\n",
              "      <td>paris-portedemontrouge-8</td>\n",
              "      <td>75014</td>\n",
              "      <td>16</td>\n",
              "    </tr>\n",
              "    <tr>\n",
              "      <th>360</th>\n",
              "      <td>8 Avenue de la Porte de Montrouge</td>\n",
              "      <td>1</td>\n",
              "      <td>0</td>\n",
              "      <td>0</td>\n",
              "      <td>1</td>\n",
              "      <td>Paris</td>\n",
              "      <td>paris-portedemontrouge-8</td>\n",
              "      <td>75014</td>\n",
              "      <td>22</td>\n",
              "    </tr>\n",
              "  </tbody>\n",
              "</table>\n",
              "</div>"
            ],
            "text/plain": [
              "                               address  cars  ...  postalcode  hour\n",
              "122  8 Avenue de la Porte de Montrouge     4  ...       75014    19\n",
              "194  8 Avenue de la Porte de Montrouge     2  ...       75014    16\n",
              "360  8 Avenue de la Porte de Montrouge     1  ...       75014    22\n",
              "\n",
              "[3 rows x 9 columns]"
            ]
          },
          "metadata": {
            "tags": []
          },
          "execution_count": 212
        }
      ]
    },
    {
      "cell_type": "code",
      "metadata": {
        "id": "qKNiFlm_Tagx",
        "colab_type": "code",
        "outputId": "415dad41-e110-48c4-a62f-600f236c081b",
        "colab": {
          "base_uri": "https://localhost:8080/",
          "height": 198
        }
      },
      "source": [
        "# Do the results change if you consider Utilib and Utilib 1.4 instead of Blue cars?\n",
        "# For utilib, \n",
        "#\n",
        "m= df.pivot_table(['utilib'],['postalcode'],aggfunc= 'sum')\n",
        "g=m.reset_index()\n",
        "o= g.sort_values(by=['utilib'],ascending= False)\n",
        "o.head(5)"
      ],
      "execution_count": 213,
      "outputs": [
        {
          "output_type": "execute_result",
          "data": {
            "text/html": [
              "<div>\n",
              "<style scoped>\n",
              "    .dataframe tbody tr th:only-of-type {\n",
              "        vertical-align: middle;\n",
              "    }\n",
              "\n",
              "    .dataframe tbody tr th {\n",
              "        vertical-align: top;\n",
              "    }\n",
              "\n",
              "    .dataframe thead th {\n",
              "        text-align: right;\n",
              "    }\n",
              "</style>\n",
              "<table border=\"1\" class=\"dataframe\">\n",
              "  <thead>\n",
              "    <tr style=\"text-align: right;\">\n",
              "      <th></th>\n",
              "      <th>postalcode</th>\n",
              "      <th>utilib</th>\n",
              "    </tr>\n",
              "  </thead>\n",
              "  <tbody>\n",
              "    <tr>\n",
              "      <th>14</th>\n",
              "      <td>75015</td>\n",
              "      <td>20</td>\n",
              "    </tr>\n",
              "    <tr>\n",
              "      <th>16</th>\n",
              "      <td>75017</td>\n",
              "      <td>20</td>\n",
              "    </tr>\n",
              "    <tr>\n",
              "      <th>15</th>\n",
              "      <td>75016</td>\n",
              "      <td>20</td>\n",
              "    </tr>\n",
              "    <tr>\n",
              "      <th>19</th>\n",
              "      <td>75020</td>\n",
              "      <td>13</td>\n",
              "    </tr>\n",
              "    <tr>\n",
              "      <th>12</th>\n",
              "      <td>75013</td>\n",
              "      <td>12</td>\n",
              "    </tr>\n",
              "  </tbody>\n",
              "</table>\n",
              "</div>"
            ],
            "text/plain": [
              "    postalcode  utilib\n",
              "14       75015      20\n",
              "16       75017      20\n",
              "15       75016      20\n",
              "19       75020      13\n",
              "12       75013      12"
            ]
          },
          "metadata": {
            "tags": []
          },
          "execution_count": 213
        }
      ]
    },
    {
      "cell_type": "code",
      "metadata": {
        "id": "1Rrp2GgOFvgY",
        "colab_type": "code",
        "outputId": "ff0aa78a-a514-4dd2-eb04-637c28e07cc1",
        "colab": {
          "base_uri": "https://localhost:8080/",
          "height": 198
        }
      },
      "source": [
        "# For utilib1.4\n",
        "#\n",
        "h= df.pivot_table(['utilib1.4'],['postalcode'],aggfunc= 'sum')\n",
        "j=h.reset_index()\n",
        "f= j.sort_values(by=['utilib1.4'],ascending= False)\n",
        "f.head(5)\n",
        "# The most popular postal code for the utilib car is similar to that of the bluecar (75015).\n",
        "# However, the most popular postal code for the utilib 1.4 car is (75017)"
      ],
      "execution_count": 214,
      "outputs": [
        {
          "output_type": "execute_result",
          "data": {
            "text/html": [
              "<div>\n",
              "<style scoped>\n",
              "    .dataframe tbody tr th:only-of-type {\n",
              "        vertical-align: middle;\n",
              "    }\n",
              "\n",
              "    .dataframe tbody tr th {\n",
              "        vertical-align: top;\n",
              "    }\n",
              "\n",
              "    .dataframe thead th {\n",
              "        text-align: right;\n",
              "    }\n",
              "</style>\n",
              "<table border=\"1\" class=\"dataframe\">\n",
              "  <thead>\n",
              "    <tr style=\"text-align: right;\">\n",
              "      <th></th>\n",
              "      <th>postalcode</th>\n",
              "      <th>utilib1.4</th>\n",
              "    </tr>\n",
              "  </thead>\n",
              "  <tbody>\n",
              "    <tr>\n",
              "      <th>16</th>\n",
              "      <td>75017</td>\n",
              "      <td>40</td>\n",
              "    </tr>\n",
              "    <tr>\n",
              "      <th>14</th>\n",
              "      <td>75015</td>\n",
              "      <td>34</td>\n",
              "    </tr>\n",
              "    <tr>\n",
              "      <th>18</th>\n",
              "      <td>75019</td>\n",
              "      <td>32</td>\n",
              "    </tr>\n",
              "    <tr>\n",
              "      <th>19</th>\n",
              "      <td>75020</td>\n",
              "      <td>26</td>\n",
              "    </tr>\n",
              "    <tr>\n",
              "      <th>15</th>\n",
              "      <td>75016</td>\n",
              "      <td>25</td>\n",
              "    </tr>\n",
              "  </tbody>\n",
              "</table>\n",
              "</div>"
            ],
            "text/plain": [
              "    postalcode  utilib1.4\n",
              "16       75017         40\n",
              "14       75015         34\n",
              "18       75019         32\n",
              "19       75020         26\n",
              "15       75016         25"
            ]
          },
          "metadata": {
            "tags": []
          },
          "execution_count": 214
        }
      ]
    }
  ]
}